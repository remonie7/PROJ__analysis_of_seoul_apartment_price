{
 "cells": [
  {
   "cell_type": "code",
   "execution_count": 1,
   "metadata": {},
   "outputs": [],
   "source": [
    "import requests"
   ]
  },
  {
   "cell_type": "code",
   "execution_count": 2,
   "metadata": {},
   "outputs": [],
   "source": [
    "client_id = \"GGmLo4UZql3_zfB9CeRC\"\n",
    "cliend_secret = \"vwXrep1wG6\"\n",
    "headers = { 'X-Naver-Client-Id' : client_id, 'X-Naver-Client-Secret' : cliend_secret}"
   ]
  },
  {
   "cell_type": "code",
   "execution_count": 3,
   "metadata": {},
   "outputs": [],
   "source": [
    "url1=\"https://openapi.naver.com/v1/search/blog?query=역삼역\"\n",
    "result=requests.get(url1, headers=headers)\n",
    "infomation = result.json()"
   ]
  },
  {
   "cell_type": "code",
   "execution_count": 4,
   "metadata": {},
   "outputs": [
    {
     "name": "stdout",
     "output_type": "stream",
     "text": [
      "검색일 :  Mon, 02 Dec 2019 10:09:28 +0900\n",
      "총 검색 결과: 520921\n",
      "시작 위치 :  1\n",
      "출력 결과 :  10\n"
     ]
    }
   ],
   "source": [
    "print(\"검색일 : \", infomation['lastBuildDate'] )\n",
    "print(\"총 검색 결과:\", infomation['total'])\n",
    "print(\"시작 위치 : \", infomation['start'])\n",
    "print(\"출력 결과 : \", infomation['display'])"
   ]
  },
  {
   "cell_type": "code",
   "execution_count": 7,
   "metadata": {},
   "outputs": [
    {
     "data": {
      "text/plain": [
       "'특별한게 있는 <b>역삼역</b> 맛집'"
      ]
     },
     "execution_count": 7,
     "metadata": {},
     "output_type": "execute_result"
    }
   ],
   "source": [
    "infomation['items'][0]['title']"
   ]
  },
  {
   "cell_type": "code",
   "execution_count": 42,
   "metadata": {},
   "outputs": [],
   "source": [
    "def get_api_result(keyword, display, start):\n",
    "    url = \"https://openapi.naver.com/v1/search/blog?query=\" + keyword + \"&display=\" \\\n",
    "        + str(display) + \"&start=\" + str(start) \n",
    "    result = requests.get(url, headers=headers)\n",
    "    return result.json()"
   ]
  },
  {
   "cell_type": "code",
   "execution_count": 43,
   "metadata": {},
   "outputs": [],
   "source": [
    "def call_and_print(keyword, page):\n",
    "    json_obj = get_api_result(keyword, 20, page)\n",
    "    for item in json_obj['items']:\n",
    "        title= item['title'].replace(\"<b>\", \"\").replace(\"</b>\", \"\")\n",
    "        print(title + \"@\" + item['bloggername'] + \"@\" + item['link'])"
   ]
  },
  {
   "cell_type": "code",
   "execution_count": 44,
   "metadata": {},
   "outputs": [
    {
     "name": "stdout",
     "output_type": "stream",
     "text": [
      "특별한게 있는 역삼역 맛집@해피밍의 해피한 일상 ♥ㅅ♥@https://blog.naver.com/mingming_93?Redirect=Log&logNo=221714751315\n",
      "역삼역 맛집 색다르다!@열풍의 부스터@https://blog.naver.com/tigeryh0629?Redirect=Log&logNo=221712151435\n",
      "역삼역 맛집 반하다!@Love and be lovable 。@https://blog.naver.com/suj809?Redirect=Log&logNo=221704798661\n",
      "역삼역 회식 편하게 이용했어요@뷰티풀 로즈@https://blog.naver.com/leeks9095?Redirect=Log&logNo=221719020431\n",
      "시간이 지나도 찾아갈 역삼역 맛집@블로그하는 남자 (-'_'+)@https://blog.naver.com/chaoyoung?Redirect=Log&logNo=221724174835\n",
      "역삼역 회식 하기 좋은 곳@-에르르네 집。@https://blog.naver.com/aeirmeki?Redirect=Log&logNo=221708403122\n",
      "연말엔 언제나 역삼역 회식@위맑음한의원 블로그@https://blog.naver.com/1akun?Redirect=Log&logNo=221701941004\n",
      "말도안돼 역삼역 고기집 육그램 그릴룸@용이가 말하다@https://blog.naver.com/tlsdyd1402?Redirect=Log&logNo=221699143809\n",
      "불맛 좋은 연탄삼겹살 역삼역 맛집@사근사근 소윤씨♩@https://blog.naver.com/soyunroom?Redirect=Log&logNo=221715416183\n",
      "고급진 역삼역 맛집@꽁나의 간지나는 블로그@https://blog.naver.com/messikkongna?Redirect=Log&logNo=221718666979\n",
      "역삼역 회식장소 차원이 달라요~@땡경이네 횡설수설 일상리뷰@https://blog.naver.com/imifeyon46?Redirect=Log&logNo=221708891080\n",
      "역삼역 고기집 서비스까지 완벽!@반짝반짝 빛나리@https://blog.naver.com/leeyhyh9281?Redirect=Log&logNo=221686801051\n",
      "역삼역 고기집 모임장소로 딱이야~@맛집깡패~♥@https://blog.naver.com/skillsun?Redirect=Log&logNo=221707460403\n",
      "역삼역 맛집 대박쓰~@달콤 살벌한 그녀@https://blog.naver.com/hohosuly?Redirect=Log&logNo=221704357777\n",
      "신선한 맛 가득 역삼역 회식장소@플럼비비 블로그@https://blog.naver.com/artwork25?Redirect=Log&logNo=221694589599\n",
      "때깔짱인 역삼역 맛집@미니민 블링블링 블로그 ♥@https://blog.naver.com/m8109?Redirect=Log&logNo=221702265643\n",
      "역삼역 고기집 핵맛 완전인정@Aa n LONG@https://blog.naver.com/long426?Redirect=Log&logNo=221708665937\n",
      "역삼역 회식 하기에 딱이야!@달코미의 일상이 기록되는 순간!!@https://blog.naver.com/bbaa_9543?Redirect=Log&logNo=221705640193\n",
      "역삼역 회식은 무조건 삼다족발 가성비좋음@와니요미의 강같은 블로그@https://blog.naver.com/sgw0107?Redirect=Log&logNo=221723854790\n",
      "역삼역 삼겹살 네모집 숙성해서 더 맛있다!@예민로그@https://blog.naver.com/hip8791?Redirect=Log&logNo=221696664553\n"
     ]
    }
   ],
   "source": [
    "keyword=\"역삼역\"\n",
    "call_and_print(keyword, 1)"
   ]
  },
  {
   "cell_type": "code",
   "execution_count": null,
   "metadata": {},
   "outputs": [],
   "source": []
  },
  {
   "cell_type": "code",
   "execution_count": null,
   "metadata": {},
   "outputs": [],
   "source": []
  }
 ],
 "metadata": {
  "kernelspec": {
   "display_name": "Python 3",
   "language": "python",
   "name": "python3"
  },
  "language_info": {
   "codemirror_mode": {
    "name": "ipython",
    "version": 3
   },
   "file_extension": ".py",
   "mimetype": "text/x-python",
   "name": "python",
   "nbconvert_exporter": "python",
   "pygments_lexer": "ipython3",
   "version": "3.7.3"
  }
 },
 "nbformat": 4,
 "nbformat_minor": 2
}
